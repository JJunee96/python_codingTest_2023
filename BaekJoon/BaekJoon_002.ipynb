{
 "cells": [
  {
   "attachments": {},
   "cell_type": "markdown",
   "metadata": {},
   "source": [
    "## 백준 알고리즘 2단계"
   ]
  },
  {
   "cell_type": "code",
   "execution_count": null,
   "metadata": {},
   "outputs": [
    {
     "name": "stdout",
     "output_type": "stream",
     "text": [
      "<\n"
     ]
    }
   ],
   "source": [
    "# 두 수 비교\n",
    "A, B = list(map(int, input().split()))\n",
    "if A > B:\n",
    "    print('>')\n",
    "elif A < B:\n",
    "    print('<')\n",
    "elif A == B:\n",
    "    print('==')\n"
   ]
  },
  {
   "cell_type": "code",
   "execution_count": null,
   "metadata": {},
   "outputs": [
    {
     "name": "stdout",
     "output_type": "stream",
     "text": [
      "F\n"
     ]
    }
   ],
   "source": [
    "# 시험성적\n",
    "score = int(input())\n",
    "\n",
    "if 90 <= score and score <= 100:\n",
    "    print('A')\n",
    "elif 80 <= score and score < 90:\n",
    "    print('B')    \n",
    "elif 70 <= score and score < 80:\n",
    "    print('C')\n",
    "elif 60 <= score and score < 70:\n",
    "    print('D')\n",
    "else:\n",
    "    print('F')\n"
   ]
  },
  {
   "cell_type": "code",
   "execution_count": 3,
   "metadata": {},
   "outputs": [
    {
     "name": "stdout",
     "output_type": "stream",
     "text": [
      "2\n"
     ]
    }
   ],
   "source": [
    "# 사분면\n",
    "x = int(input())\n",
    "y = int(input())\n",
    "\n",
    "if x > 0 and y > 0:\n",
    "    print('1')\n",
    "elif x < 0 and y > 0:\n",
    "    print('2')    \n",
    "elif x < 0 and y < 0:\n",
    "    print('3')    \n",
    "elif x > 0 and y < 0:\n",
    "    print('4')    "
   ]
  },
  {
   "cell_type": "code",
   "execution_count": 12,
   "metadata": {},
   "outputs": [
    {
     "name": "stdout",
     "output_type": "stream",
     "text": [
      "9 25\n"
     ]
    }
   ],
   "source": [
    "# 알람\n",
    "# 이건왜 틀린답일까...\n",
    "H, M = map(int, input().split())\n",
    "\n",
    "M = M - 45\n",
    "\n",
    "if M > 0:\n",
    "    print(H, M)\n",
    "elif M < 0:\n",
    "    H = H - 1\n",
    "    if H < 0:\n",
    "        H = 24 + H\n",
    "    M = 60 + M\n",
    "    print(H, M)\n",
    "\n",
    "# 답안\n",
    "H, M = map(int, input().split())\n",
    "\n",
    "if M < 45:\n",
    "    if H == 0:\n",
    "        H = 23\n",
    "        M += 60\n",
    "    else:\n",
    "        H -= 1\n",
    "        M += 60\n",
    "print(H, M - 45)"
   ]
  },
  {
   "cell_type": "code",
   "execution_count": 17,
   "metadata": {},
   "outputs": [
    {
     "name": "stdout",
     "output_type": "stream",
     "text": [
      "0 13\n"
     ]
    }
   ],
   "source": [
    "# 오븐\n",
    "H, M = map(int,input().split())\n",
    "cooktime = int(input())\n",
    "\n",
    "resultH = ((M + cooktime) // 60) + H\n",
    "resultM = (M + cooktime) % 60\n",
    "\n",
    "if resultH >= 24:\n",
    "    resultH -= 24\n",
    "\n",
    "print(resultH, resultM)"
   ]
  },
  {
   "cell_type": "code",
   "execution_count": 20,
   "metadata": {},
   "outputs": [
    {
     "name": "stdout",
     "output_type": "stream",
     "text": [
      "13000\n"
     ]
    }
   ],
   "source": [
    "# 주사위 세개\n",
    "dice1, dice2, dice3 = map(int, input().split())\n",
    "\n",
    "if dice1 == dice2 == dice3:\n",
    "    result = 10000 + dice1*1000\n",
    "\n",
    "elif dice1 == dice2 != dice3:\n",
    "    result = 1000 + dice1*100\n",
    "elif dice1 != dice2 == dice3:\n",
    "    result = 1000 + dice2*100\n",
    "elif dice1 == dice3 != dice2:\n",
    "    result = 1000 + dice1*100\n",
    "\n",
    "else:\n",
    "    result = 100 * max(dice1, dice2, dice3)\n",
    "    \n",
    "\n",
    "print(result)\n"
   ]
  },
  {
   "cell_type": "code",
   "execution_count": 3,
   "metadata": {},
   "outputs": [
    {
     "name": "stdout",
     "output_type": "stream",
     "text": [
      "0\n"
     ]
    }
   ],
   "source": [
    "# 윤년\n",
    "y = int(input())\n",
    "\n",
    "if (y % 4 == 0 and y % 100 != 0) or y % 400 == 0:\n",
    "    print(1)\n",
    "else:\n",
    "    print(0)"
   ]
  }
 ],
 "metadata": {
  "kernelspec": {
   "display_name": "Python 3",
   "language": "python",
   "name": "python3"
  },
  "language_info": {
   "codemirror_mode": {
    "name": "ipython",
    "version": 3
   },
   "file_extension": ".py",
   "mimetype": "text/x-python",
   "name": "python",
   "nbconvert_exporter": "python",
   "pygments_lexer": "ipython3",
   "version": "3.11.1"
  },
  "orig_nbformat": 4,
  "vscode": {
   "interpreter": {
    "hash": "a3d8f53f1429d27b792a3789224562ddd32c1395c9a9cfbb17b3c19c3b9a493d"
   }
  }
 },
 "nbformat": 4,
 "nbformat_minor": 2
}
