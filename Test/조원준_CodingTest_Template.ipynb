{
 "cells": [
  {
   "attachments": {},
   "cell_type": "markdown",
   "metadata": {},
   "source": [
    "## 1번 문제\n",
    "\n",
    "프로그래머스 Lev1. 카드 뭉치 "
   ]
  },
  {
   "cell_type": "code",
   "execution_count": 28,
   "metadata": {},
   "outputs": [
    {
     "name": "stdout",
     "output_type": "stream",
     "text": [
      "Yes\n",
      "No\n"
     ]
    }
   ],
   "source": [
    "def solution1(cards1, cards2, goal):\n",
    "    count = 0\n",
    "    if len(cards1) >= len(cards2):\n",
    "        num = len(cards2)\n",
    "    else:\n",
    "        num = len(cards1)\n",
    "\n",
    "    for a in range(0, num):\n",
    "        \n",
    "        for b in range(a, (a+1)*2):\n",
    "            if goal[b] == cards1[a] or goal[b] == cards2[a]:\n",
    "                count += 1\n",
    "        \n",
    "        if count == (a + 1)*2:\n",
    "            answer = 'Yes'\n",
    "        else:\n",
    "            answer = 'No'\n",
    "    return answer\n",
    "\n",
    "cards1 = [\"i\", \"drink\", \"water\"]\n",
    "cards2 = [\"want\", \"to\"]\n",
    "goal = [\"i\", \"want\", \"to\", \"drink\", \"water\"]\n",
    "\n",
    "\n",
    "print(solution1(cards1, cards2, goal)) # return Yes\n",
    "\n",
    "cards1 = [\"i\", \"water\", \"drink\"]\n",
    "cards2 = [\"want\", \"to\"]\n",
    "goal = [\"i\", \"want\", \"to\", \"drink\", \"water\"]\n",
    "\n",
    "print(solution1(cards1, cards2, goal)) # return No"
   ]
  },
  {
   "attachments": {},
   "cell_type": "markdown",
   "metadata": {},
   "source": [
    "## 2번 문제\n",
    "\n",
    "프로그래머스 Lev1. 체육복"
   ]
  },
  {
   "cell_type": "code",
   "execution_count": 55,
   "metadata": {},
   "outputs": [
    {
     "name": "stdout",
     "output_type": "stream",
     "text": [
      "5\n",
      "4\n",
      "2\n"
     ]
    }
   ],
   "source": [
    "def solution2(n, lost, reserve):\n",
    "    num = len(reserve)  # 여벌 리스트 길이\n",
    "    lostnum = len(lost) # 잃어버린 리스트 길이\n",
    "    count = 0           \n",
    "\n",
    "    for i in range(num):    \n",
    "        lostnum1 = reserve[i] + 1   # 여벌 있는 번호 + 1\n",
    "        lostnum2 = reserve[i] - 1   # 여벌 있는 번호 - 1\n",
    "        for a in range(0, lostnum - 1):\n",
    "            if lost[a] == lostnum1:\n",
    "                count += 1\n",
    "            elif lost[a] == lostnum2:\n",
    "                count += 1\n",
    "\n",
    "    n = n - (len(lost) - count)\n",
    "\n",
    "    answer = n\n",
    "    return answer\n",
    "\n",
    "n = 5\n",
    "lost = [2, 4]\n",
    "reserve = [1,3,5]\n",
    "print(solution2(n, lost, reserve)) # return 5\n",
    "\n",
    "n = 5\n",
    "lost = [2, 4]\n",
    "reserve = [3]\n",
    "print(solution2(n, lost, reserve)) # return 4\n",
    "\n",
    "n = 3\n",
    "lost = [3]\n",
    "reserve = [1]\n",
    "print(solution2(n, lost, reserve)) # return 2"
   ]
  }
 ],
 "metadata": {
  "kernelspec": {
   "display_name": "Python 3",
   "language": "python",
   "name": "python3"
  },
  "language_info": {
   "codemirror_mode": {
    "name": "ipython",
    "version": 3
   },
   "file_extension": ".py",
   "mimetype": "text/x-python",
   "name": "python",
   "nbconvert_exporter": "python",
   "pygments_lexer": "ipython3",
   "version": "3.11.1"
  },
  "orig_nbformat": 4,
  "vscode": {
   "interpreter": {
    "hash": "a3d8f53f1429d27b792a3789224562ddd32c1395c9a9cfbb17b3c19c3b9a493d"
   }
  }
 },
 "nbformat": 4,
 "nbformat_minor": 2
}
